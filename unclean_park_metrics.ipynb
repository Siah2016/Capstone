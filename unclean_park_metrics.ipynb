{
 "cells": [
  {
   "attachments": {},
   "cell_type": "markdown",
   "metadata": {},
   "source": [
    "### Imports"
   ]
  },
  {
   "cell_type": "code",
   "execution_count": 6,
   "metadata": {},
   "outputs": [],
   "source": [
    "import pandas as pd \n",
    "import mysql.connector as connection "
   ]
  },
  {
   "attachments": {},
   "cell_type": "markdown",
   "metadata": {},
   "source": [
    "### Connecting to SQL Database (coaster_metrics)"
   ]
  },
  {
   "cell_type": "code",
   "execution_count": 26,
   "metadata": {},
   "outputs": [
    {
     "name": "stderr",
     "output_type": "stream",
     "text": [
      "C:\\Users\\Godov\\AppData\\Local\\Temp\\ipykernel_17328\\3043603830.py:4: UserWarning: pandas only supports SQLAlchemy connectable (engine/connection) or database string URI or sqlite3 DBAPI2 connection. Other DBAPI2 objects are not tested. Please consider using SQLAlchemy.\n",
      "  df = pd.read_sql(query, sql_db)\n"
     ]
    },
    {
     "data": {
      "text/html": [
       "<div>\n",
       "<style scoped>\n",
       "    .dataframe tbody tr th:only-of-type {\n",
       "        vertical-align: middle;\n",
       "    }\n",
       "\n",
       "    .dataframe tbody tr th {\n",
       "        vertical-align: top;\n",
       "    }\n",
       "\n",
       "    .dataframe thead th {\n",
       "        text-align: right;\n",
       "    }\n",
       "</style>\n",
       "<table border=\"1\" class=\"dataframe\">\n",
       "  <thead>\n",
       "    <tr style=\"text-align: right;\">\n",
       "      <th></th>\n",
       "      <th>Name</th>\n",
       "      <th>Park</th>\n",
       "      <th>Material_Type</th>\n",
       "      <th>Seating_Type</th>\n",
       "      <th>Speed</th>\n",
       "      <th>Height</th>\n",
       "      <th>Length</th>\n",
       "      <th>Manufacturer</th>\n",
       "      <th>City</th>\n",
       "      <th>State</th>\n",
       "      <th>Country</th>\n",
       "    </tr>\n",
       "  </thead>\n",
       "  <tbody>\n",
       "    <tr>\n",
       "      <th>0</th>\n",
       "      <td>Afterburn</td>\n",
       "      <td>Carowinds</td>\n",
       "      <td>Steel</td>\n",
       "      <td>Inverted</td>\n",
       "      <td>100.0</td>\n",
       "      <td>34.0</td>\n",
       "      <td>900.0</td>\n",
       "      <td>B&amp;M</td>\n",
       "      <td>Charlotte</td>\n",
       "      <td>North Carolina</td>\n",
       "      <td>United States</td>\n",
       "    </tr>\n",
       "    <tr>\n",
       "      <th>1</th>\n",
       "      <td>Alpengeist</td>\n",
       "      <td>Busch Gardens Williamsburg</td>\n",
       "      <td>Steel</td>\n",
       "      <td>Inverted</td>\n",
       "      <td>108.0</td>\n",
       "      <td>60.0</td>\n",
       "      <td>NaN</td>\n",
       "      <td>B&amp;M</td>\n",
       "      <td>Williamsburg</td>\n",
       "      <td>Virginia</td>\n",
       "      <td>United States</td>\n",
       "    </tr>\n",
       "    <tr>\n",
       "      <th>2</th>\n",
       "      <td>American Thunder</td>\n",
       "      <td>Six Flags St. Louis</td>\n",
       "      <td>Wooden</td>\n",
       "      <td>Sit Down</td>\n",
       "      <td>77.0</td>\n",
       "      <td>25.0</td>\n",
       "      <td>827.0</td>\n",
       "      <td>GCI</td>\n",
       "      <td>Eureka</td>\n",
       "      <td>Missouri</td>\n",
       "      <td>United States</td>\n",
       "    </tr>\n",
       "    <tr>\n",
       "      <th>3</th>\n",
       "      <td>Apocalypse</td>\n",
       "      <td>Six Flags Magic Mountain</td>\n",
       "      <td>Wooden</td>\n",
       "      <td>Sit Down</td>\n",
       "      <td>89.0</td>\n",
       "      <td>31.0</td>\n",
       "      <td>869.0</td>\n",
       "      <td>GCI</td>\n",
       "      <td>Valencia</td>\n",
       "      <td>California</td>\n",
       "      <td>United States</td>\n",
       "    </tr>\n",
       "    <tr>\n",
       "      <th>4</th>\n",
       "      <td>Apollo's Chariot</td>\n",
       "      <td>Busch Gardens Williamsburg</td>\n",
       "      <td>Steel</td>\n",
       "      <td>Sit Down</td>\n",
       "      <td>118.0</td>\n",
       "      <td>52.0</td>\n",
       "      <td>1488.0</td>\n",
       "      <td>B&amp;M</td>\n",
       "      <td>Williamsburg</td>\n",
       "      <td>Virginia</td>\n",
       "      <td>United States</td>\n",
       "    </tr>\n",
       "  </tbody>\n",
       "</table>\n",
       "</div>"
      ],
      "text/plain": [
       "               Name                        Park Material_Type Seating_Type  \\\n",
       "0         Afterburn                   Carowinds         Steel     Inverted   \n",
       "1        Alpengeist  Busch Gardens Williamsburg         Steel     Inverted   \n",
       "2  American Thunder         Six Flags St. Louis        Wooden     Sit Down   \n",
       "3        Apocalypse    Six Flags Magic Mountain        Wooden     Sit Down   \n",
       "4  Apollo's Chariot  Busch Gardens Williamsburg         Steel     Sit Down   \n",
       "\n",
       "   Speed  Height  Length Manufacturer          City           State  \\\n",
       "0  100.0    34.0   900.0          B&M     Charlotte  North Carolina   \n",
       "1  108.0    60.0     NaN          B&M  Williamsburg        Virginia   \n",
       "2   77.0    25.0   827.0          GCI        Eureka        Missouri   \n",
       "3   89.0    31.0   869.0          GCI      Valencia      California   \n",
       "4  118.0    52.0  1488.0          B&M  Williamsburg        Virginia   \n",
       "\n",
       "         Country  \n",
       "0  United States  \n",
       "1  United States  \n",
       "2  United States  \n",
       "3  United States  \n",
       "4  United States  "
      ]
     },
     "execution_count": 26,
     "metadata": {},
     "output_type": "execute_result"
    }
   ],
   "source": [
    "sql_db = connection.connect(host=\"devcodecamp-mysql.c5p7yvjq1h8y.us-east-2.rds.amazonaws.com\", database=\"rollercoasterdb\", user=\"root\", password=\"D3v$tudent\", use_pure=\"True\")\n",
    "query = \"SELECT * FROM park_metric\"\n",
    "\n",
    "df = pd.read_sql(query, sql_db)\n",
    "\n",
    "df.head()"
   ]
  },
  {
   "attachments": {},
   "cell_type": "markdown",
   "metadata": {},
   "source": [
    "### Checking for Null Values"
   ]
  },
  {
   "cell_type": "code",
   "execution_count": 21,
   "metadata": {},
   "outputs": [
    {
     "name": "stdout",
     "output_type": "stream",
     "text": [
      "<class 'pandas.core.frame.DataFrame'>\n",
      "RangeIndex: 210 entries, 0 to 209\n",
      "Data columns (total 11 columns):\n",
      " #   Column         Non-Null Count  Dtype  \n",
      "---  ------         --------------  -----  \n",
      " 0   Name           210 non-null    object \n",
      " 1   Park           210 non-null    object \n",
      " 2   Material_Type  210 non-null    object \n",
      " 3   Seating_Type   210 non-null    object \n",
      " 4   speed          196 non-null    float64\n",
      " 5   height         204 non-null    float64\n",
      " 6   length         201 non-null    float64\n",
      " 7   manufacturer   210 non-null    object \n",
      " 8   city           210 non-null    object \n",
      " 9   state          210 non-null    object \n",
      " 10  country        210 non-null    object \n",
      "dtypes: float64(3), object(8)\n",
      "memory usage: 18.2+ KB\n"
     ]
    }
   ],
   "source": [
    "df.info()"
   ]
  },
  {
   "attachments": {},
   "cell_type": "markdown",
   "metadata": {},
   "source": [
    "### Removing Null Values"
   ]
  },
  {
   "cell_type": "code",
   "execution_count": 27,
   "metadata": {},
   "outputs": [
    {
     "name": "stdout",
     "output_type": "stream",
     "text": [
      "<class 'pandas.core.frame.DataFrame'>\n",
      "Int64Index: 189 entries, 0 to 209\n",
      "Data columns (total 11 columns):\n",
      " #   Column         Non-Null Count  Dtype  \n",
      "---  ------         --------------  -----  \n",
      " 0   Name           189 non-null    object \n",
      " 1   Park           189 non-null    object \n",
      " 2   Material_Type  189 non-null    object \n",
      " 3   Seating_Type   189 non-null    object \n",
      " 4   Speed          189 non-null    float64\n",
      " 5   Height         189 non-null    float64\n",
      " 6   Length         189 non-null    float64\n",
      " 7   Manufacturer   189 non-null    object \n",
      " 8   City           189 non-null    object \n",
      " 9   State          189 non-null    object \n",
      " 10  Country        189 non-null    object \n",
      "dtypes: float64(3), object(8)\n",
      "memory usage: 17.7+ KB\n"
     ]
    }
   ],
   "source": [
    "non_null_df = df.dropna()\n",
    "\n",
    "non_null_df.info()"
   ]
  },
  {
   "attachments": {},
   "cell_type": "markdown",
   "metadata": {},
   "source": [
    "### Identifying Duplicates"
   ]
  },
  {
   "cell_type": "code",
   "execution_count": 28,
   "metadata": {},
   "outputs": [
    {
     "data": {
      "text/plain": [
       "0      False\n",
       "135    False\n",
       "136    False\n",
       "137    False\n",
       "138    False\n",
       "       ...  \n",
       "76     False\n",
       "77     False\n",
       "78     False\n",
       "67     False\n",
       "209    False\n",
       "Length: 189, dtype: bool"
      ]
     },
     "execution_count": 28,
     "metadata": {},
     "output_type": "execute_result"
    }
   ],
   "source": [
    "non_null_df.duplicated().sort_values()"
   ]
  },
  {
   "cell_type": "code",
   "execution_count": 29,
   "metadata": {},
   "outputs": [
    {
     "data": {
      "text/html": [
       "<div>\n",
       "<style scoped>\n",
       "    .dataframe tbody tr th:only-of-type {\n",
       "        vertical-align: middle;\n",
       "    }\n",
       "\n",
       "    .dataframe tbody tr th {\n",
       "        vertical-align: top;\n",
       "    }\n",
       "\n",
       "    .dataframe thead th {\n",
       "        text-align: right;\n",
       "    }\n",
       "</style>\n",
       "<table border=\"1\" class=\"dataframe\">\n",
       "  <thead>\n",
       "    <tr style=\"text-align: right;\">\n",
       "      <th></th>\n",
       "      <th>Name</th>\n",
       "      <th>Park</th>\n",
       "      <th>Material_Type</th>\n",
       "      <th>Seating_Type</th>\n",
       "      <th>Speed</th>\n",
       "      <th>Height</th>\n",
       "      <th>Length</th>\n",
       "      <th>Manufacturer</th>\n",
       "      <th>City</th>\n",
       "      <th>State</th>\n",
       "      <th>Country</th>\n",
       "    </tr>\n",
       "  </thead>\n",
       "  <tbody>\n",
       "    <tr>\n",
       "      <th>0</th>\n",
       "      <td>Afterburn</td>\n",
       "      <td>Carowinds</td>\n",
       "      <td>Steel</td>\n",
       "      <td>Inverted</td>\n",
       "      <td>100.0</td>\n",
       "      <td>34.0</td>\n",
       "      <td>900.0</td>\n",
       "      <td>B&amp;M</td>\n",
       "      <td>Charlotte</td>\n",
       "      <td>North Carolina</td>\n",
       "      <td>United States</td>\n",
       "    </tr>\n",
       "    <tr>\n",
       "      <th>2</th>\n",
       "      <td>American Thunder</td>\n",
       "      <td>Six Flags St. Louis</td>\n",
       "      <td>Wooden</td>\n",
       "      <td>Sit Down</td>\n",
       "      <td>77.0</td>\n",
       "      <td>25.0</td>\n",
       "      <td>827.0</td>\n",
       "      <td>GCI</td>\n",
       "      <td>Eureka</td>\n",
       "      <td>Missouri</td>\n",
       "      <td>United States</td>\n",
       "    </tr>\n",
       "    <tr>\n",
       "      <th>3</th>\n",
       "      <td>Apocalypse</td>\n",
       "      <td>Six Flags Magic Mountain</td>\n",
       "      <td>Wooden</td>\n",
       "      <td>Sit Down</td>\n",
       "      <td>89.0</td>\n",
       "      <td>31.0</td>\n",
       "      <td>869.0</td>\n",
       "      <td>GCI</td>\n",
       "      <td>Valencia</td>\n",
       "      <td>California</td>\n",
       "      <td>United States</td>\n",
       "    </tr>\n",
       "    <tr>\n",
       "      <th>4</th>\n",
       "      <td>Apollo's Chariot</td>\n",
       "      <td>Busch Gardens Williamsburg</td>\n",
       "      <td>Steel</td>\n",
       "      <td>Sit Down</td>\n",
       "      <td>118.0</td>\n",
       "      <td>52.0</td>\n",
       "      <td>1488.0</td>\n",
       "      <td>B&amp;M</td>\n",
       "      <td>Williamsburg</td>\n",
       "      <td>Virginia</td>\n",
       "      <td>United States</td>\n",
       "    </tr>\n",
       "    <tr>\n",
       "      <th>6</th>\n",
       "      <td>Balder</td>\n",
       "      <td>Liseberg</td>\n",
       "      <td>Wooden</td>\n",
       "      <td>Sit Down</td>\n",
       "      <td>90.0</td>\n",
       "      <td>36.0</td>\n",
       "      <td>1070.0</td>\n",
       "      <td>Intamin</td>\n",
       "      <td>Gothenburg</td>\n",
       "      <td>Västra Götalands</td>\n",
       "      <td>Sweden</td>\n",
       "    </tr>\n",
       "  </tbody>\n",
       "</table>\n",
       "</div>"
      ],
      "text/plain": [
       "               Name                        Park Material_Type Seating_Type  \\\n",
       "0         Afterburn                   Carowinds         Steel     Inverted   \n",
       "2  American Thunder         Six Flags St. Louis        Wooden     Sit Down   \n",
       "3        Apocalypse    Six Flags Magic Mountain        Wooden     Sit Down   \n",
       "4  Apollo's Chariot  Busch Gardens Williamsburg         Steel     Sit Down   \n",
       "6            Balder                    Liseberg        Wooden     Sit Down   \n",
       "\n",
       "   Speed  Height  Length Manufacturer          City             State  \\\n",
       "0  100.0    34.0   900.0          B&M     Charlotte    North Carolina   \n",
       "2   77.0    25.0   827.0          GCI        Eureka          Missouri   \n",
       "3   89.0    31.0   869.0          GCI      Valencia        California   \n",
       "4  118.0    52.0  1488.0          B&M  Williamsburg          Virginia   \n",
       "6   90.0    36.0  1070.0      Intamin    Gothenburg  Västra Götalands   \n",
       "\n",
       "         Country  \n",
       "0  United States  \n",
       "2  United States  \n",
       "3  United States  \n",
       "4  United States  \n",
       "6         Sweden  "
      ]
     },
     "execution_count": 29,
     "metadata": {},
     "output_type": "execute_result"
    }
   ],
   "source": [
    "non_null_df.head()"
   ]
  },
  {
   "attachments": {},
   "cell_type": "markdown",
   "metadata": {},
   "source": [
    "### Exporting to CSV file"
   ]
  },
  {
   "cell_type": "code",
   "execution_count": 30,
   "metadata": {},
   "outputs": [],
   "source": [
    "non_null_df.to_csv(\"clean_park_metrics.csv\", encoding=\"utf-8\")"
   ]
  }
 ],
 "metadata": {
  "kernelspec": {
   "display_name": "Python 3",
   "language": "python",
   "name": "python3"
  },
  "language_info": {
   "codemirror_mode": {
    "name": "ipython",
    "version": 3
   },
   "file_extension": ".py",
   "mimetype": "text/x-python",
   "name": "python",
   "nbconvert_exporter": "python",
   "pygments_lexer": "ipython3",
   "version": "3.10.11"
  },
  "orig_nbformat": 4,
  "vscode": {
   "interpreter": {
    "hash": "1cb178ec872588112352fe7445a7d9b42ce7ecb6d1875275044576424671be3d"
   }
  }
 },
 "nbformat": 4,
 "nbformat_minor": 2
}
