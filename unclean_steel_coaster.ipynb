{
 "cells": [
  {
   "attachments": {},
   "cell_type": "markdown",
   "metadata": {},
   "source": [
    "### Imports"
   ]
  },
  {
   "cell_type": "code",
   "execution_count": 1,
   "metadata": {},
   "outputs": [],
   "source": [
    "import pandas as pd"
   ]
  },
  {
   "attachments": {},
   "cell_type": "markdown",
   "metadata": {},
   "source": [
    "### DataFrame from CSV file"
   ]
  },
  {
   "cell_type": "code",
   "execution_count": 9,
   "metadata": {},
   "outputs": [
    {
     "data": {
      "text/html": [
       "<div>\n",
       "<style scoped>\n",
       "    .dataframe tbody tr th:only-of-type {\n",
       "        vertical-align: middle;\n",
       "    }\n",
       "\n",
       "    .dataframe tbody tr th {\n",
       "        vertical-align: top;\n",
       "    }\n",
       "\n",
       "    .dataframe thead th {\n",
       "        text-align: right;\n",
       "    }\n",
       "</style>\n",
       "<table border=\"1\" class=\"dataframe\">\n",
       "  <thead>\n",
       "    <tr style=\"text-align: right;\">\n",
       "      <th></th>\n",
       "      <th>Year_of_Rank</th>\n",
       "      <th>Award_Category</th>\n",
       "      <th>Name</th>\n",
       "      <th>Park</th>\n",
       "      <th>Location</th>\n",
       "      <th>Supplier</th>\n",
       "      <th>Year_Built</th>\n",
       "    </tr>\n",
       "    <tr>\n",
       "      <th>Rank</th>\n",
       "      <th></th>\n",
       "      <th></th>\n",
       "      <th></th>\n",
       "      <th></th>\n",
       "      <th></th>\n",
       "      <th></th>\n",
       "      <th></th>\n",
       "    </tr>\n",
       "  </thead>\n",
       "  <tbody>\n",
       "    <tr>\n",
       "      <th>1</th>\n",
       "      <td>2022</td>\n",
       "      <td>Steel</td>\n",
       "      <td>Fury 325</td>\n",
       "      <td>Carowinds</td>\n",
       "      <td>Charlotte, North Carolina</td>\n",
       "      <td>B&amp;M</td>\n",
       "      <td>2015</td>\n",
       "    </tr>\n",
       "    <tr>\n",
       "      <th>2</th>\n",
       "      <td>2022</td>\n",
       "      <td>Steel</td>\n",
       "      <td>Steel Vengeance</td>\n",
       "      <td>Cedar Point</td>\n",
       "      <td>Sandusky, Ohio</td>\n",
       "      <td>Rocky Mountain Const.</td>\n",
       "      <td>2018</td>\n",
       "    </tr>\n",
       "    <tr>\n",
       "      <th>3</th>\n",
       "      <td>2022</td>\n",
       "      <td>Steel</td>\n",
       "      <td>Millennium Force</td>\n",
       "      <td>Cedar Point</td>\n",
       "      <td>Sandusky, Ohio</td>\n",
       "      <td>Intamin</td>\n",
       "      <td>2000</td>\n",
       "    </tr>\n",
       "    <tr>\n",
       "      <th>4</th>\n",
       "      <td>2022</td>\n",
       "      <td>Steel</td>\n",
       "      <td>Iron Gwazi</td>\n",
       "      <td>Busch Gardens Tampa</td>\n",
       "      <td>Tampa, Florida</td>\n",
       "      <td>Rocky Mountain Const.</td>\n",
       "      <td>2022</td>\n",
       "    </tr>\n",
       "    <tr>\n",
       "      <th>5</th>\n",
       "      <td>2022</td>\n",
       "      <td>Steel</td>\n",
       "      <td>Jurassic World VelociCoaster</td>\n",
       "      <td>Universal's Islands of Adventure</td>\n",
       "      <td>Orlando, Florida</td>\n",
       "      <td>Intamin</td>\n",
       "      <td>2021</td>\n",
       "    </tr>\n",
       "  </tbody>\n",
       "</table>\n",
       "</div>"
      ],
      "text/plain": [
       "     Year_of_Rank Award_Category                          Name  \\\n",
       "Rank                                                             \n",
       "1            2022          Steel                      Fury 325   \n",
       "2            2022          Steel               Steel Vengeance   \n",
       "3            2022          Steel              Millennium Force   \n",
       "4            2022          Steel                    Iron Gwazi   \n",
       "5            2022          Steel  Jurassic World VelociCoaster   \n",
       "\n",
       "                                  Park                   Location  \\\n",
       "Rank                                                                \n",
       "1                            Carowinds  Charlotte, North Carolina   \n",
       "2                          Cedar Point             Sandusky, Ohio   \n",
       "3                          Cedar Point             Sandusky, Ohio   \n",
       "4                  Busch Gardens Tampa             Tampa, Florida   \n",
       "5     Universal's Islands of Adventure           Orlando, Florida   \n",
       "\n",
       "                   Supplier Year_Built  \n",
       "Rank                                    \n",
       "1                       B&M       2015  \n",
       "2     Rocky Mountain Const.       2018  \n",
       "3                   Intamin       2000  \n",
       "4     Rocky Mountain Const.       2022  \n",
       "5                   Intamin       2021  "
      ]
     },
     "execution_count": 9,
     "metadata": {},
     "output_type": "execute_result"
    }
   ],
   "source": [
    "df =pd.read_csv(\"steel_coasters.csv\",  index_col=\"Rank\")\n",
    "\n",
    "df.head()"
   ]
  },
  {
   "attachments": {},
   "cell_type": "markdown",
   "metadata": {},
   "source": [
    "### Checking for Duplicate"
   ]
  },
  {
   "cell_type": "code",
   "execution_count": 10,
   "metadata": {},
   "outputs": [
    {
     "data": {
      "text/html": [
       "<div>\n",
       "<style scoped>\n",
       "    .dataframe tbody tr th:only-of-type {\n",
       "        vertical-align: middle;\n",
       "    }\n",
       "\n",
       "    .dataframe tbody tr th {\n",
       "        vertical-align: top;\n",
       "    }\n",
       "\n",
       "    .dataframe thead th {\n",
       "        text-align: right;\n",
       "    }\n",
       "</style>\n",
       "<table border=\"1\" class=\"dataframe\">\n",
       "  <thead>\n",
       "    <tr style=\"text-align: right;\">\n",
       "      <th></th>\n",
       "      <th>Year_of_Rank</th>\n",
       "      <th>Award_Category</th>\n",
       "      <th>Name</th>\n",
       "      <th>Park</th>\n",
       "      <th>Location</th>\n",
       "      <th>Supplier</th>\n",
       "      <th>Year_Built</th>\n",
       "    </tr>\n",
       "    <tr>\n",
       "      <th>Rank</th>\n",
       "      <th></th>\n",
       "      <th></th>\n",
       "      <th></th>\n",
       "      <th></th>\n",
       "      <th></th>\n",
       "      <th></th>\n",
       "      <th></th>\n",
       "    </tr>\n",
       "  </thead>\n",
       "  <tbody>\n",
       "    <tr>\n",
       "      <th>36</th>\n",
       "      <td>2022</td>\n",
       "      <td>Steel</td>\n",
       "      <td>Alpengeist</td>\n",
       "      <td>Busch Gardens Williamsburg</td>\n",
       "      <td>Williamsburg, Virginia</td>\n",
       "      <td>B&amp;M</td>\n",
       "      <td>1997</td>\n",
       "    </tr>\n",
       "    <tr>\n",
       "      <th>8</th>\n",
       "      <td>2021</td>\n",
       "      <td>Steel</td>\n",
       "      <td>Leviathan</td>\n",
       "      <td>Canada's Wonderland</td>\n",
       "      <td>Vaughan, Ontario, Canada</td>\n",
       "      <td>B&amp;M</td>\n",
       "      <td>2012</td>\n",
       "    </tr>\n",
       "    <tr>\n",
       "      <th>28</th>\n",
       "      <td>2018</td>\n",
       "      <td>Steel</td>\n",
       "      <td>Montu</td>\n",
       "      <td>Busch Gardens Tampa</td>\n",
       "      <td>Tampa, Fla.</td>\n",
       "      <td>B&amp;M</td>\n",
       "      <td>1996</td>\n",
       "    </tr>\n",
       "    <tr>\n",
       "      <th>38</th>\n",
       "      <td>2017</td>\n",
       "      <td>Steel</td>\n",
       "      <td>Quimera</td>\n",
       "      <td>La Feria</td>\n",
       "      <td>Mexico City, Mexico</td>\n",
       "      <td>Schwarzkopf</td>\n",
       "      <td>2007</td>\n",
       "    </tr>\n",
       "    <tr>\n",
       "      <th>42</th>\n",
       "      <td>2016</td>\n",
       "      <td>Steel</td>\n",
       "      <td>Kumba</td>\n",
       "      <td>Busch Gardens Tampa</td>\n",
       "      <td>Tampa, Fla.</td>\n",
       "      <td>B&amp;M</td>\n",
       "      <td>1993</td>\n",
       "    </tr>\n",
       "  </tbody>\n",
       "</table>\n",
       "</div>"
      ],
      "text/plain": [
       "     Year_of_Rank Award_Category        Name                        Park  \\\n",
       "Rank                                                                       \n",
       "36           2022          Steel  Alpengeist  Busch Gardens Williamsburg   \n",
       "8            2021          Steel   Leviathan         Canada's Wonderland   \n",
       "28           2018          Steel       Montu         Busch Gardens Tampa   \n",
       "38           2017          Steel     Quimera                    La Feria   \n",
       "42           2016          Steel       Kumba         Busch Gardens Tampa   \n",
       "\n",
       "                      Location     Supplier Year_Built  \n",
       "Rank                                                    \n",
       "36      Williamsburg, Virginia          B&M       1997  \n",
       "8     Vaughan, Ontario, Canada          B&M       2012  \n",
       "28                 Tampa, Fla.          B&M       1996  \n",
       "38         Mexico City, Mexico  Schwarzkopf       2007  \n",
       "42                 Tampa, Fla.          B&M       1993  "
      ]
     },
     "execution_count": 10,
     "metadata": {},
     "output_type": "execute_result"
    }
   ],
   "source": [
    "df[df.duplicated()]"
   ]
  },
  {
   "attachments": {},
   "cell_type": "markdown",
   "metadata": {},
   "source": [
    "### Removing Duplicates"
   ]
  },
  {
   "cell_type": "code",
   "execution_count": 11,
   "metadata": {},
   "outputs": [
    {
     "data": {
      "text/html": [
       "<div>\n",
       "<style scoped>\n",
       "    .dataframe tbody tr th:only-of-type {\n",
       "        vertical-align: middle;\n",
       "    }\n",
       "\n",
       "    .dataframe tbody tr th {\n",
       "        vertical-align: top;\n",
       "    }\n",
       "\n",
       "    .dataframe thead th {\n",
       "        text-align: right;\n",
       "    }\n",
       "</style>\n",
       "<table border=\"1\" class=\"dataframe\">\n",
       "  <thead>\n",
       "    <tr style=\"text-align: right;\">\n",
       "      <th></th>\n",
       "      <th>Year_of_Rank</th>\n",
       "      <th>Award_Category</th>\n",
       "      <th>Name</th>\n",
       "      <th>Park</th>\n",
       "      <th>Location</th>\n",
       "      <th>Supplier</th>\n",
       "      <th>Year_Built</th>\n",
       "    </tr>\n",
       "    <tr>\n",
       "      <th>Rank</th>\n",
       "      <th></th>\n",
       "      <th></th>\n",
       "      <th></th>\n",
       "      <th></th>\n",
       "      <th></th>\n",
       "      <th></th>\n",
       "      <th></th>\n",
       "    </tr>\n",
       "  </thead>\n",
       "  <tbody>\n",
       "  </tbody>\n",
       "</table>\n",
       "</div>"
      ],
      "text/plain": [
       "Empty DataFrame\n",
       "Columns: [Year_of_Rank, Award_Category, Name, Park, Location, Supplier, Year_Built]\n",
       "Index: []"
      ]
     },
     "execution_count": 11,
     "metadata": {},
     "output_type": "execute_result"
    }
   ],
   "source": [
    "dup_df = df.drop_duplicates()\n",
    "\n",
    "dup_df[dup_df.duplicated()]"
   ]
  },
  {
   "attachments": {},
   "cell_type": "markdown",
   "metadata": {},
   "source": [
    "### Exporting to CSV file"
   ]
  },
  {
   "cell_type": "code",
   "execution_count": 12,
   "metadata": {},
   "outputs": [],
   "source": [
    "dup_df.to_csv(\"cleaned_steel_coasters.csv\", encoding=\"utf-8\")"
   ]
  }
 ],
 "metadata": {
  "kernelspec": {
   "display_name": "Python 3",
   "language": "python",
   "name": "python3"
  },
  "language_info": {
   "codemirror_mode": {
    "name": "ipython",
    "version": 3
   },
   "file_extension": ".py",
   "mimetype": "text/x-python",
   "name": "python",
   "nbconvert_exporter": "python",
   "pygments_lexer": "ipython3",
   "version": "3.10.11"
  },
  "orig_nbformat": 4
 },
 "nbformat": 4,
 "nbformat_minor": 2
}
